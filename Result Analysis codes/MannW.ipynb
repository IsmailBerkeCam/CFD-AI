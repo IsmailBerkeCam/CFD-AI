{
 "cells": [
  {
   "cell_type": "markdown",
   "metadata": {},
   "source": [
    "# **Kruskal 1**\n",
    " "
   ]
  },
  {
   "cell_type": "code",
   "execution_count": 28,
   "metadata": {},
   "outputs": [
    {
     "name": "stdout",
     "output_type": "stream",
     "text": [
      "Kruskal-Wallis H-statistic: 0.05419354838709012\n",
      "P-value: 0.9732670498328962\n",
      "There is no statistically significant difference between the neural networks.\n"
     ]
    }
   ],
   "source": [
    "import numpy as np\n",
    "from scipy.stats import kruskal\n",
    "\n",
    "# Sample error values for three neural networks\n",
    "# Replace these with your actual error values\n",
    "Dense1 = [0.1912402416035333, 0.10319660204920453, 0.16644000844720914, 0.43757537993673076, 0.24206532751816905, 0.13985077561002376, 0.10054570942596028, 0.28342559676177988, 0.17066175781962077, 0.0879511431748912]\n",
    "LSTM1 = [0.18272814696876292, 0.10670166361372196 , 0.1692108209090709, 0.41690560945420120, 0.24552451623940257, 0.13308741907160499, 0.09799857888709592, 0.2770561362512081, 0.1705194597132148 , 0.08922408737475362]\n",
    "MLP1 = [0.19032199333645437, 0.1021398126290447, 0.17031204608915743, 0.4614889240378501, 0.24645868916903808, 0.14920741319812015, 0.10208582113219322 , 0.29645303918116554, 0.17392806257444963, 0.0865159418706873]\n",
    "\n",
    "# Perform Kruskal-Wallis test\n",
    "H, p_value = kruskal(Dense1, LSTM1, MLP1)\n",
    "\n",
    "print(f\"Kruskal-Wallis H-statistic: {H}\")\n",
    "print(f\"P-value: {p_value}\")\n",
    "\n",
    "# Interpret the result\n",
    "alpha = 0.05\n",
    "if p_value < alpha:\n",
    "    print(\"There is a statistically significant difference between the neural networks.\")\n",
    "else:\n",
    "    print(\"There is no statistically significant difference between the neural networks.\")\n"
   ]
  },
  {
   "cell_type": "markdown",
   "metadata": {},
   "source": [
    "# **kruskal 2**"
   ]
  },
  {
   "cell_type": "code",
   "execution_count": 29,
   "metadata": {},
   "outputs": [
    {
     "name": "stdout",
     "output_type": "stream",
     "text": [
      "Velocity - Kruskal-Wallis H-statistic: 2.765714285714296\n",
      "Velocity - P-value: 0.09630369202868821\n",
      "There is no statistically significant difference between the neural networks.\n",
      "Velocity - Kruskal-Wallis H-statistic: 11.798244803695159\n",
      "Velocity - P-value: 0.0027418500057194237\n",
      "There is a statistically significant difference between the neural networks.\n"
     ]
    }
   ],
   "source": [
    "# Perform Kruskal-Wallis test for Velocity\n",
    "Dense2 = [0.1868518545716451, 0.1866999927091685, 0.19819698503812205, 0.19023550552179128, 0.1840421416011886, 0.187404888882678, 0.18470019952953698 , 0.18972645614727784, 0.18899043633605003, 0.19457898503224771]\n",
    "LSTM2 = [0.18419332064525334, 0.1862561455779045, 0.18688290047087858, 0.19615965167240412, 0.1825561729389313, 0.18640748874855328, 0.1885024723369769 , 0.18516794499955525, 0.18601383831703328, 0.18444394037779854]\n",
    "MLP2 = [0.19032199333645436, 0.19032199333645436, 0.19032199333645436, 0.19032199333645436, 0.19032199333645436, 0.19032199333645436, 0.19032199333645436 , 0.19032199333645436,0.19032199333645436, 0.19032199333645436]\n",
    "\n",
    "H_velocity2, p_value_N02 = kruskal(Dense2, LSTM2)\n",
    "print(f\"Velocity - Kruskal-Wallis H-statistic: {H_velocity2}\")\n",
    "print(f\"Velocity - P-value: {p_value_N02}\")\n",
    "alpha = 0.05\n",
    "if p_value_N02< alpha:\n",
    "    print(\"There is a statistically significant difference between the neural networks.\")\n",
    "else:\n",
    "    print(\"There is no statistically significant difference between the neural networks.\")\n",
    "\n",
    "H_velocity2, p_value_N02 = kruskal(Dense2, LSTM2, MLP2)\n",
    "print(f\"Velocity - Kruskal-Wallis H-statistic: {H_velocity2}\")\n",
    "print(f\"Velocity - P-value: {p_value_N02}\")\n",
    "alpha = 0.05\n",
    "if p_value_N02< alpha:\n",
    "    print(\"There is a statistically significant difference between the neural networks.\")\n",
    "else:\n",
    "    print(\"There is no statistically significant difference between the neural networks.\")"
   ]
  },
  {
   "cell_type": "markdown",
   "metadata": {},
   "source": [
    "# **Kruskal 3**"
   ]
  },
  {
   "cell_type": "code",
   "execution_count": 31,
   "metadata": {},
   "outputs": [
    {
     "name": "stdout",
     "output_type": "stream",
     "text": [
      "Velocity - Kruskal-Wallis H-statistic: 22.197828597828593\n",
      "Velocity - P-value: 1.5128740196260022e-05\n",
      "There is a statistically significant difference between the neural networks.\n",
      "Velocity - Kruskal-Wallis H-statistic: 4.483370955605722\n",
      "Velocity - P-value: 0.03422615057933414\n",
      "There is a statistically significant difference between the neural networks.\n"
     ]
    }
   ],
   "source": [
    "# Perform Kruskal-Wallis test for Velocity\n",
    "Dense3 = [0.0711689442396164,  0.07166390866041183,  0.07770892232656479, 0.07343740016222,  0.07220776379108429, 0.07308268547058105, 0.07393358647823334 ,  0.07393358647823334,  0.07317063212394714, 0.07226469367742538]\n",
    "LSTM3 = [0.07419007271528244, 0.07421170920133591, 0.0735042616724968, 0.07365067303180695, 0.07359255850315094, 0.0739176943898201, 0.07366205751895905 , 0.07424149662256241, 0.07382851094007492, 0.07487866282463074]\n",
    "MLP3 = [0.07082700675113189, 0.07082700675113189, 0.07082700675113189, 0.07082700675113189, 0.07082700675113189, 0.07082700675113189, 0.07082700675113189 , 0.0708270067511318936, 0.07082700675113189, 0.07082700675113189]\n",
    "\n",
    "H_velocity3, p_value_Loss3 = kruskal(Dense3, LSTM3, MLP3)\n",
    "print(f\"Velocity - Kruskal-Wallis H-statistic: {H_velocity3}\")\n",
    "print(f\"Velocity - P-value: {p_value_Loss3}\")\n",
    "\n",
    "alpha = 0.05\n",
    "if p_value_Loss3 < alpha:\n",
    "    print(\"There is a statistically significant difference between the neural networks.\")\n",
    "else:\n",
    "    print(\"There is no statistically significant difference between the neural networks.\")\n",
    "\n",
    "\n",
    "H_velocity3, p_value_Loss3 = kruskal(Dense3, LSTM3)\n",
    "print(f\"Velocity - Kruskal-Wallis H-statistic: {H_velocity3}\")\n",
    "print(f\"Velocity - P-value: {p_value_Loss3}\")\n",
    "\n",
    "alpha = 0.05\n",
    "if p_value_Loss3 < alpha:\n",
    "    print(\"There is a statistically significant difference between the neural networks.\")\n",
    "else:\n",
    "    print(\"There is no statistically significant difference between the neural networks.\")\n",
    "\n"
   ]
  },
  {
   "cell_type": "markdown",
   "metadata": {},
   "source": [
    "# **DUNNS Comparison To Observe**"
   ]
  },
  {
   "cell_type": "code",
   "execution_count": 36,
   "metadata": {},
   "outputs": [
    {
     "name": "stdout",
     "output_type": "stream",
     "text": [
      "          1         2         3\n",
      "1  1.000000  0.486799  0.130587\n",
      "2  0.486799  1.000000  0.001906\n",
      "3  0.130587  0.001906  1.000000\n"
     ]
    }
   ],
   "source": [
    "import scikit_posthocs as sp\n",
    "import numpy as np\n",
    "\n",
    "\n",
    "data = np.concatenate([Dense, LSTM, MLP])\n",
    "labels = ['Dense']*len(Dense) + ['LSTM']*len(LSTM) + ['MLP']*len(MLP)\n",
    "\n",
    "# Perform Dunn's test\n",
    "posthoc = sp.posthoc_dunn([Dense, LSTM, MLP], p_adjust='bonferroni')\n",
    "print(posthoc)\n"
   ]
  },
  {
   "cell_type": "code",
   "execution_count": 37,
   "metadata": {},
   "outputs": [
    {
     "name": "stdout",
     "output_type": "stream",
     "text": [
      "          1         2         3\n",
      "1  1.000000  0.486799  0.130587\n",
      "2  0.486799  1.000000  0.001906\n",
      "3  0.130587  0.001906  1.000000\n"
     ]
    }
   ],
   "source": [
    "import scikit_posthocs as sp\n",
    "import numpy as np\n",
    "\n",
    "\n",
    "data2 = np.concatenate([Dense2, LSTM2, MLP2])\n",
    "labels2 = ['Dense2']*len(Dense2) + ['LSTM2']*len(LSTM2) + ['MLP2']*len(MLP2)\n",
    "\n",
    "# Perform Dunn's test\n",
    "posthoc2 = sp.posthoc_dunn([Dense2, LSTM2, MLP2], p_adjust='bonferroni')\n",
    "print(posthoc2)\n"
   ]
  },
  {
   "cell_type": "code",
   "execution_count": 38,
   "metadata": {},
   "outputs": [
    {
     "name": "stdout",
     "output_type": "stream",
     "text": [
      "          1         2         3\n",
      "1  1.000000  0.441664  0.004771\n",
      "2  0.441664  1.000000  0.000012\n",
      "3  0.004771  0.000012  1.000000\n"
     ]
    }
   ],
   "source": [
    "import scikit_posthocs as sp\n",
    "import numpy as np\n",
    "\n",
    "\n",
    "data3 = np.concatenate([Dense3, LSTM3, MLP3])\n",
    "labels3 = ['Dense3']*len(Dense3) + ['LSTM3']*len(LSTM3) + ['MLP3']*len(MLP3)\n",
    "\n",
    "# Perform Dunn's test\n",
    "posthoc3 = sp.posthoc_dunn([Dense3, LSTM3, MLP3], p_adjust='bonferroni')\n",
    "print(posthoc3)"
   ]
  },
  {
   "cell_type": "markdown",
   "metadata": {},
   "source": [
    "# **Median Error FOR 10 PREDICTIONS**"
   ]
  },
  {
   "cell_type": "code",
   "execution_count": 39,
   "metadata": {},
   "outputs": [
    {
     "name": "stdout",
     "output_type": "stream",
     "text": [
      "Median error for NN1: 0.16855088313341493\n",
      "Median error for NN2: 0.16986514031114286\n",
      "Median error for NN3: 0.17212005433180352\n"
     ]
    }
   ],
   "source": [
    "import numpy as np\n",
    "\n",
    "# Sample error values for three neural networks\n",
    "# Replace these with your actual error values\n",
    "Dense1 = [0.1912402416035333, 0.10319660204920453, 0.16644000844720914, 0.43757537993673076, 0.24206532751816905, 0.13985077561002376, 0.10054570942596028, 0.28342559676177988, 0.17066175781962077, 0.0879511431748912]\n",
    "LSTM1 = [0.18272814696876292, 0.10670166361372196 , 0.1692108209090709, 0.41690560945420120, 0.24552451623940257, 0.13308741907160499, 0.09799857888709592, 0.2770561362512081, 0.1705194597132148 , 0.08922408737475362]\n",
    "MLP1 = [0.19032199333645437, 0.1021398126290447, 0.17031204608915743, 0.4614889240378501, 0.24645868916903808, 0.14920741319812015, 0.10208582113219322 , 0.29645303918116554, 0.17392806257444963, 0.0865159418706873]\n",
    "\n",
    "# Compute median error for each neural network\n",
    "Dense1 = np.median(Dense1)\n",
    "LSTM1 = np.median(LSTM1)\n",
    "MLP1 = np.median(MLP1)\n",
    "\n",
    "print(f\"Median error for NN1: {Dense1}\")\n",
    "print(f\"Median error for NN2: {LSTM1}\")\n",
    "print(f\"Median error for NN3: {MLP1}\")\n"
   ]
  },
  {
   "cell_type": "markdown",
   "metadata": {},
   "source": [
    " # **friedmanchisquare**"
   ]
  },
  {
   "cell_type": "code",
   "execution_count": 40,
   "metadata": {},
   "outputs": [
    {
     "name": "stdout",
     "output_type": "stream",
     "text": [
      "Velocity - Chi-squared statistic: 4.200000000000003\n",
      "Velocity - P-value: 0.12245642825298172\n"
     ]
    }
   ],
   "source": [
    "import numpy as np\n",
    "from scipy.stats import friedmanchisquare\n",
    "\n",
    "# Sample repeated error values for three neural networks\n",
    "# Replace these with your actual error values\n",
    "\n",
    "Dense1 = [0.1912402416035333, 0.10319660204920453, 0.16644000844720914, 0.43757537993673076, 0.24206532751816905, 0.13985077561002376, 0.10054570942596028, 0.28342559676177988, 0.17066175781962077, 0.0879511431748912]\n",
    "LSTM1 = [0.18272814696876292, 0.10670166361372196 , 0.1692108209090709, 0.41690560945420120, 0.24552451623940257, 0.13308741907160499, 0.09799857888709592, 0.2770561362512081, 0.1705194597132148 , 0.08922408737475362]\n",
    "MLP1 = [0.19032199333645437, 0.1021398126290447, 0.17031204608915743, 0.4614889240378501, 0.24645868916903808, 0.14920741319812015, 0.10208582113219322 , 0.29645303918116554, 0.17392806257444963, 0.0865159418706873]\n",
    "\n",
    "# Perform Friedman test for Velocity\n",
    "chi2_velocity, p_value_velocity = friedmanchisquare(Dense1, LSTM1, MLP1)\n",
    "print(f\"Velocity - Chi-squared statistic: {chi2_velocity}\")\n",
    "print(f\"Velocity - P-value: {p_value_velocity}\")\n",
    "\n",
    "\n"
   ]
  }
 ],
 "metadata": {
  "kernelspec": {
   "display_name": "Python 3",
   "language": "python",
   "name": "python3"
  },
  "language_info": {
   "codemirror_mode": {
    "name": "ipython",
    "version": 3
   },
   "file_extension": ".py",
   "mimetype": "text/x-python",
   "name": "python",
   "nbconvert_exporter": "python",
   "pygments_lexer": "ipython3",
   "version": "3.11.4"
  },
  "orig_nbformat": 4
 },
 "nbformat": 4,
 "nbformat_minor": 2
}
