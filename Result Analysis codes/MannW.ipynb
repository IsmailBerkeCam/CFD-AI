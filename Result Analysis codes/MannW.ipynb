{
 "cells": [
  {
   "cell_type": "markdown",
   "metadata": {},
   "source": [
    "# **Kruskal With 10 Prediction ERRORS**\n",
    " "
   ]
  },
  {
   "cell_type": "code",
   "execution_count": 6,
   "metadata": {},
   "outputs": [
    {
     "name": "stdout",
     "output_type": "stream",
     "text": [
      "Kruskal-Wallis H-statistic: 0.05419354838709012\n",
      "P-value: 0.9732670498328962\n",
      "There is no statistically significant difference between the neural networks.\n"
     ]
    }
   ],
   "source": [
    "#Velocity\n",
    "import numpy as np\n",
    "from scipy.stats import kruskal\n",
    "Dense1 = [0.1912402416035333, 0.10319660204920453, 0.16644000844720914, 0.43757537993673076, 0.24206532751816905, 0.13985077561002376, 0.10054570942596028, 0.28342559676177988, 0.17066175781962077, 0.0879511431748912]\n",
    "LSTM1 = [0.18272814696876292, 0.10670166361372196 , 0.1692108209090709, 0.41690560945420120, 0.24552451623940257, 0.13308741907160499, 0.09799857888709592, 0.2770561362512081, 0.1705194597132148 , 0.08922408737475362]\n",
    "MLP1 = [0.19032199333645437, 0.1021398126290447, 0.17031204608915743, 0.4614889240378501, 0.24645868916903808, 0.14920741319812015, 0.10208582113219322 , 0.29645303918116554, 0.17392806257444963, 0.0865159418706873]\n",
    "H, p_value = kruskal(Dense1, LSTM1, MLP1)\n",
    "print(f\"Kruskal-Wallis H-statistic: {H}\")\n",
    "print(f\"P-value: {p_value}\")\n",
    "alpha = 0.05\n",
    "if p_value < alpha:\n",
    "    print(\"There is a statistically significant difference between the neural networks.\")\n",
    "else:\n",
    "    print(\"There is no statistically significant difference between the neural networks.\")"
   ]
  },
  {
   "cell_type": "code",
   "execution_count": 11,
   "metadata": {},
   "outputs": [
    {
     "name": "stdout",
     "output_type": "stream",
     "text": [
      "Kruskal-Wallis H-statistic: 1.6799999999999926\n",
      "P-value: 0.43171052342908145\n",
      "There is no statistically significant difference between the neural networks.\n"
     ]
    }
   ],
   "source": [
    "#WSS\n",
    "import numpy as np\n",
    "from scipy.stats import kruskal\n",
    "Dense1WSS = [0.08163148189128604, 0.12385399330249637, 0.09055487399539042, 0.19750688032524373, 0.09439582854321252, 0.954384933776727, 0.11231337419696256, 0.10226050431537978, 0.08927751167186315, 0.15366130246812538]\n",
    "LSTM1WSS = [0.096131964097313692, 0.12912423707330882 , 0.10072371617113527, 0.2819692847589827, 0.10007533318043228, 0.12399662644351446, 0.11530941196030204, 0.13962073177289454, 0.09900153956501727, 0.1505881154822016]\n",
    "MLP1WSS = [0.08069278974748132, 0.12163799030215602, 0.08800648576352733, 0.21994372717335274, 0.09202901421446285, 0.10266316829131023, 0.11101142562998664, 0.10981698563122084, 0.08609637868835224, 0.13704119075632613]\n",
    "H, p_value = kruskal(Dense1WSS, LSTM1WSS, MLP1WSS)\n",
    "print(f\"Kruskal-Wallis H-statistic: {H}\")\n",
    "print(f\"P-value: {p_value}\")\n",
    "alpha = 0.05\n",
    "if p_value < alpha:\n",
    "    print(\"There is a statistically significant difference between the neural networks.\")\n",
    "else:\n",
    "    print(\"There is no statistically significant difference between the neural networks.\")"
   ]
  },
  {
   "cell_type": "markdown",
   "metadata": {},
   "source": [
    "# **Kruskal with Loss**"
   ]
  },
  {
   "cell_type": "code",
   "execution_count": 17,
   "metadata": {},
   "outputs": [
    {
     "name": "stdout",
     "output_type": "stream",
     "text": [
      "Velocity - Kruskal-Wallis H-statistic: 19.87723124860894\n",
      "Velocity - P-value: 4.827408786915802e-05\n",
      "There is a statistically significant difference between the neural networks.\n"
     ]
    }
   ],
   "source": [
    "#VELOCITY\n",
    "import numpy as np\n",
    "from scipy.stats import kruskal\n",
    "Dense3 = [0.0711689442396164,  0.07166390866041183,  0.07770892232656479, 0.07343740016222,  0.07220776379108429, 0.07308268547058105, 0.07393358647823334 ,  0.07393358647823334,  0.07317063212394714, 0.07226469367742538]\n",
    "LSTM3 = [0.07419007271528244, 0.07421170920133591, 0.0735042616724968, 0.07365067303180695, 0.07359255850315094, 0.0739176943898201, 0.07366205751895905 , 0.07424149662256241, 0.07382851094007492, 0.07487866282463074]\n",
    "MLP3 = [0.07124255075613817, 0.07137392207467373, 0.07090239925520458, 0.07129579229586193, 0.07114191590438598, 0.0713009895086925, 0.07082380348130626 , 0.07129619411762364, 0.07092914970171567, 0.07092914970171567]\n",
    "H_velocity3, p_value_Loss3 = kruskal(Dense3, LSTM3, MLP3)\n",
    "print(f\"Velocity - Kruskal-Wallis H-statistic: {H_velocity3}\")\n",
    "print(f\"Velocity - P-value: {p_value_Loss3}\")\n",
    "alpha = 0.05\n",
    "if p_value_Loss3 < alpha:\n",
    "    print(\"There is a statistically significant difference between the neural networks.\")\n",
    "else:\n",
    "    print(\"There is no statistically significant difference between the neural networks.\")"
   ]
  },
  {
   "cell_type": "code",
   "execution_count": 18,
   "metadata": {},
   "outputs": [
    {
     "name": "stdout",
     "output_type": "stream",
     "text": [
      "          1         2         3\n",
      "1  1.000000  0.363607  0.013305\n",
      "2  0.363607  1.000000  0.000033\n",
      "3  0.013305  0.000033  1.000000\n"
     ]
    }
   ],
   "source": [
    "#DUNNS Comparison\n",
    "import scikit_posthocs as sp\n",
    "import numpy as np\n",
    "data3 = np.concatenate([Dense3, LSTM3, MLP3])\n",
    "labels3 = ['Dense3']*len(Dense3) + ['LSTM3']*len(LSTM3) + ['MLP3']*len(MLP3)\n",
    "# Perform Dunn's test\n",
    "posthoc3 = sp.posthoc_dunn([Dense3, LSTM3, MLP3], p_adjust='bonferroni')\n",
    "print(posthoc3)"
   ]
  },
  {
   "cell_type": "code",
   "execution_count": 15,
   "metadata": {},
   "outputs": [
    {
     "name": "stdout",
     "output_type": "stream",
     "text": [
      "Velocity - Kruskal-Wallis H-statistic: 12.69935483870968\n",
      "Velocity - P-value: 0.0017473106939707823\n",
      "There is a statistically significant difference between the neural networks.\n"
     ]
    }
   ],
   "source": [
    "#WSS\n",
    "import numpy as np\n",
    "from scipy.stats import kruskal\n",
    "Dense3WSS3 = [0.04287056252360344,  0.04336816072463989,  0.04521508514881134, 0.04406706616282463,  0.04332606866955757, 0.04248523339629173, 0.043391622602939606,   0.04292996972799301,  0.04404229670763016, 0.043085694313049316]\n",
    "LSTM3WSS3 = [0.04387478530406952, 0.04350784793496132, 0.04431518167257309,  0.04344706982374191, 0.042787350714206696, 0.04278118163347244,  0.04289805516600609 ,  0.042807456105947495, 0.04270264133810997, 0.04322720319032669]\n",
    "MLP3WSS3 = [0.04298138613438765, 0.04217484314183236, 0.042248914944977074, 0.04252411096959397, 0.04229494207664164, 0.04247642501872921, 0.042368156334438856 , 0.04219657124549782, 0.04249274451951283, 0.04324550052137654]\n",
    "H_velocity3, p_value_Loss3 = kruskal(Dense3WSS3, LSTM3WSS3, MLP3WSS3)\n",
    "print(f\"Velocity - Kruskal-Wallis H-statistic: {H_velocity3}\")\n",
    "print(f\"Velocity - P-value: {p_value_Loss3}\")\n",
    "alpha = 0.05\n",
    "if p_value_Loss3 < alpha:\n",
    "    print(\"There is a statistically significant difference between the neural networks.\")\n",
    "else:\n",
    "    print(\"There is no statistically significant difference between the neural networks.\")"
   ]
  },
  {
   "cell_type": "code",
   "execution_count": 19,
   "metadata": {},
   "outputs": [
    {
     "name": "stdout",
     "output_type": "stream",
     "text": [
      "         1         2         3\n",
      "1  1.00000  1.000000  0.002630\n",
      "2  1.00000  1.000000  0.016889\n",
      "3  0.00263  0.016889  1.000000\n"
     ]
    }
   ],
   "source": [
    "#DUNNS comparison\n",
    "import scikit_posthocs as sp\n",
    "import numpy as np\n",
    "data4 = np.concatenate([Dense3WSS3, LSTM3WSS3, MLP3WSS3])\n",
    "labels4 = ['Dense3WSS3']*len(Dense3WSS3) + ['LSTM3WSS3']*len(LSTM3WSS3) + ['MLP3WSS3']*len(MLP3WSS3)\n",
    "# Perform Dunn's test\n",
    "posthoc4 = sp.posthoc_dunn([Dense3WSS3, LSTM3WSS3, MLP3WSS3], p_adjust='bonferroni')\n",
    "print(posthoc4)"
   ]
  },
  {
   "cell_type": "markdown",
   "metadata": {},
   "source": [
    "# **Median Error FOR 10 PREDICTIONS**"
   ]
  },
  {
   "cell_type": "code",
   "execution_count": 21,
   "metadata": {},
   "outputs": [
    {
     "name": "stdout",
     "output_type": "stream",
     "text": [
      "Median error for NN1: 0.16855088313341493\n",
      "Median error for NN2: 0.16986514031114286\n",
      "Median error for NN3: 0.17212005433180352\n"
     ]
    }
   ],
   "source": [
    "import numpy as np\n",
    "Dense1 = [0.1912402416035333, 0.10319660204920453, 0.16644000844720914, 0.43757537993673076, 0.24206532751816905, 0.13985077561002376, 0.10054570942596028, 0.28342559676177988, 0.17066175781962077, 0.0879511431748912]\n",
    "LSTM1 = [0.18272814696876292, 0.10670166361372196 , 0.1692108209090709, 0.41690560945420120, 0.24552451623940257, 0.13308741907160499, 0.09799857888709592, 0.2770561362512081, 0.1705194597132148 , 0.08922408737475362]\n",
    "MLP1 = [0.19032199333645437, 0.1021398126290447, 0.17031204608915743, 0.4614889240378501, 0.24645868916903808, 0.14920741319812015, 0.10208582113219322 , 0.29645303918116554, 0.17392806257444963, 0.0865159418706873]\n",
    "Dense1 = np.median(Dense1)\n",
    "LSTM1 = np.median(LSTM1)\n",
    "MLP1 = np.median(MLP1)\n",
    "print(f\"Median error for NN1: {Dense1}\")\n",
    "print(f\"Median error for NN2: {LSTM1}\")\n",
    "print(f\"Median error for NN3: {MLP1}\")"
   ]
  }
 ],
 "metadata": {
  "kernelspec": {
   "display_name": "Python 3",
   "language": "python",
   "name": "python3"
  },
  "language_info": {
   "codemirror_mode": {
    "name": "ipython",
    "version": 3
   },
   "file_extension": ".py",
   "mimetype": "text/x-python",
   "name": "python",
   "nbconvert_exporter": "python",
   "pygments_lexer": "ipython3",
   "version": "3.11.4"
  },
  "orig_nbformat": 4
 },
 "nbformat": 4,
 "nbformat_minor": 2
}
