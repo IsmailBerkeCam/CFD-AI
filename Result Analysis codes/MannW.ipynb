{
 "cells": [
  {
   "cell_type": "code",
   "execution_count": 1,
   "metadata": {},
   "outputs": [
    {
     "name": "stdout",
     "output_type": "stream",
     "text": [
      "Kruskal-Wallis H-statistic: 25.921787709497213\n",
      "P-value: 2.3504732790417582e-06\n",
      "There is a statistically significant difference between the neural networks.\n"
     ]
    }
   ],
   "source": [
    "import numpy as np\n",
    "from scipy.stats import kruskal\n",
    "\n",
    "# Sample error values for three neural networks\n",
    "# Replace these with your actual error values\n",
    "errors_nn1 = [0.1, 0.2, 0.15, 0.12, 0.14, 0.13, 0.11, 0.2, 0.18, 0.16]\n",
    "errors_nn2 = [0.05, 0.06, 0.055, 0.05, 0.06, 0.055, 0.05, 0.06, 0.055, 0.05]\n",
    "errors_nn3 = [0.3, 0.25, 0.32, 0.28, 0.26, 0.29, 0.27, 0.24, 0.31, 0.3]\n",
    "\n",
    "# Perform Kruskal-Wallis test\n",
    "H, p_value = kruskal(errors_nn1, errors_nn2, errors_nn3)\n",
    "\n",
    "print(f\"Kruskal-Wallis H-statistic: {H}\")\n",
    "print(f\"P-value: {p_value}\")\n",
    "\n",
    "# Interpret the result\n",
    "alpha = 0.05\n",
    "if p_value < alpha:\n",
    "    print(\"There is a statistically significant difference between the neural networks.\")\n",
    "else:\n",
    "    print(\"There is no statistically significant difference between the neural networks.\")\n"
   ]
  },
  {
   "cell_type": "code",
   "execution_count": 5,
   "metadata": {},
   "outputs": [
    {
     "name": "stdout",
     "output_type": "stream",
     "text": [
      "         1         2         3\n",
      "1  1.00000  0.032720  0.032720\n",
      "2  0.03272  1.000000  0.000001\n",
      "3  0.03272  0.000001  1.000000\n"
     ]
    }
   ],
   "source": [
    "import scikit_posthocs as sp\n",
    "import numpy as np\n",
    "\n",
    "\n",
    "data = np.concatenate([errors_nn1, errors_nn2, errors_nn3])\n",
    "labels = ['NN1']*len(errors_nn1) + ['NN2']*len(errors_nn2) + ['NN3']*len(errors_nn3)\n",
    "\n",
    "# Perform Dunn's test\n",
    "posthoc = sp.posthoc_dunn([errors_nn1, errors_nn2, errors_nn3], p_adjust='bonferroni')\n",
    "print(posthoc)\n"
   ]
  },
  {
   "cell_type": "code",
   "execution_count": 6,
   "metadata": {},
   "outputs": [
    {
     "name": "stdout",
     "output_type": "stream",
     "text": [
      "Median error for NN1: 0.14500000000000002\n",
      "Median error for NN2: 0.055\n",
      "Median error for NN3: 0.28500000000000003\n"
     ]
    }
   ],
   "source": [
    "import numpy as np\n",
    "\n",
    "# Sample error values for three neural networks\n",
    "# Replace these with your actual error values\n",
    "errors_nn1 = [0.1, 0.2, 0.15, 0.12, 0.14, 0.13, 0.11, 0.2, 0.18, 0.16]\n",
    "errors_nn2 = [0.05, 0.06, 0.055, 0.05, 0.06, 0.055, 0.05, 0.06, 0.055, 0.05]\n",
    "errors_nn3 = [0.3, 0.25, 0.32, 0.28, 0.26, 0.29, 0.27, 0.24, 0.31, 0.3]\n",
    "\n",
    "# Compute median error for each neural network\n",
    "median_error_nn1 = np.median(errors_nn1)\n",
    "median_error_nn2 = np.median(errors_nn2)\n",
    "median_error_nn3 = np.median(errors_nn3)\n",
    "\n",
    "print(f\"Median error for NN1: {median_error_nn1}\")\n",
    "print(f\"Median error for NN2: {median_error_nn2}\")\n",
    "print(f\"Median error for NN3: {median_error_nn3}\")\n"
   ]
  },
  {
   "cell_type": "code",
   "execution_count": null,
   "metadata": {},
   "outputs": [],
   "source": [
    "from scipy.stats import wilcoxon\n",
    "\n",
    "# Sample prediction errors for the same instance, from multiple runs\n",
    "# Replace these with your actual error values\n",
    "errors_run1 = [0.1, 0.12, 0.11, 0.13, 0.1, 0.12, 0.11, 0.13, 0.1, 0.12]\n",
    "errors_run2 = [0.105, 0.115, 0.11, 0.13, 0.105, 0.115, 0.11, 0.13, 0.105, 0.115]\n",
    "\n",
    "# Perform Wilcoxon signed-rank test\n",
    "W_statistic, p_value = wilcoxon(errors_run1, errors_run2)\n",
    "\n",
    "print(f\"W-statistic: {W_statistic}\")\n",
    "print(f\"P-value: {p_value}\")\n"
   ]
  }
 ],
 "metadata": {
  "kernelspec": {
   "display_name": "Python 3",
   "language": "python",
   "name": "python3"
  },
  "language_info": {
   "codemirror_mode": {
    "name": "ipython",
    "version": 3
   },
   "file_extension": ".py",
   "mimetype": "text/x-python",
   "name": "python",
   "nbconvert_exporter": "python",
   "pygments_lexer": "ipython3",
   "version": "3.11.4"
  },
  "orig_nbformat": 4
 },
 "nbformat": 4,
 "nbformat_minor": 2
}
