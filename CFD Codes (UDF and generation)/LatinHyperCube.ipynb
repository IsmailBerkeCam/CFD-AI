{
  "cells": [
    {
      "cell_type": "markdown",
      "metadata": {},
      "source": [
        "SETUP"
      ]
    },
    {
      "cell_type": "code",
      "execution_count": 7,
      "metadata": {},
      "outputs": [],
      "source": [
        "#https://ndcbe.github.io/cbe67701-uncertainty-quantification/07.02-Latin-Hypercube-sampling.html\n",
        "#https://github.com/scipy/scipy/blob/v1.11.1/scipy/stats/_qmc.py#L1082-L1376\n",
        "#https://docs.scipy.org/doc/scipy/reference/generated/scipy.stats.qmc.LatinHypercube.html\n",
        "from scipy.stats import qmc\n",
        "import numpy as np\n",
        "import matplotlib.pyplot as plt"
      ]
    },
    {
      "cell_type": "markdown",
      "metadata": {},
      "source": [
        "SAMPLE GENERATION"
      ]
    },
    {
      "cell_type": "code",
      "execution_count": 8,
      "metadata": {
        "colab": {
          "base_uri": "https://localhost:8080/",
          "height": 1000
        },
        "id": "iOUKCIpzL8Mh",
        "outputId": "06e1e990-088e-4c97-bdc7-cf64d45c8fe2"
      },
      "outputs": [
        {
          "name": "stdout",
          "output_type": "stream",
          "text": [
            "[[ 9.91893387  1.79909261]\n",
            " [ 7.93088369  2.69360909]\n",
            " [ 3.42728901  2.5301975 ]\n",
            " [ 5.75249074  1.96660236]\n",
            " [ 4.35324285  1.86926036]\n",
            " [ 3.15860075  2.55788828]\n",
            " [ 4.31502046  2.12706427]\n",
            " [ 5.26273249  1.71223096]\n",
            " [10.44050007  1.6949168 ]\n",
            " [12.152443    1.97894102]\n",
            " [ 7.38927129  1.62990323]\n",
            " [ 3.44906038  2.10017383]\n",
            " [ 4.61396662  2.50462141]\n",
            " [11.65997167  1.60980277]\n",
            " [ 8.78504549  1.84157622]\n",
            " [11.83931078  2.61321664]\n",
            " [ 9.50614949  2.46648827]\n",
            " [ 6.65606627  2.28318461]\n",
            " [ 5.94683784  2.08104952]\n",
            " [12.09467514  1.72323744]\n",
            " [ 9.29785082  2.34663642]\n",
            " [11.28163301  2.59054047]\n",
            " [10.97228415  2.39188805]\n",
            " [ 6.83401413  2.29069863]\n",
            " [ 9.09965169  2.01730354]\n",
            " [12.34539721  2.21416985]\n",
            " [ 5.13963475  2.18012118]\n",
            " [ 6.21559734  2.48845019]\n",
            " [ 4.96431261  2.36854642]\n",
            " [ 8.68023372  2.21107042]\n",
            " [ 4.01803783  2.6413358 ]\n",
            " [ 7.45258017  1.94088964]\n",
            " [ 6.34921199  2.40890775]\n",
            " [ 7.08893328  2.15764551]\n",
            " [10.15748793  1.86494058]\n",
            " [12.70652436  1.99926521]\n",
            " [ 8.2388366   2.44428849]\n",
            " [12.93263173  1.79464531]\n",
            " [ 9.80871819  1.65312701]\n",
            " [ 3.70440851  2.67357404]\n",
            " [ 7.76600426  1.9091295 ]\n",
            " [10.68912026  2.04029591]\n",
            " [11.04239223  2.24760718]\n",
            " [ 5.55389309  2.31091822]\n",
            " [ 8.47219042  1.75199796]]\n"
          ]
        }
      ],
      "source": [
        "np.random.seed(13) #randomseed\n",
        "d = 2 #Dimensions\n",
        "sampler = qmc.LatinHypercube(d=d, seed=13) #Hypercube\n",
        "sample = sampler.random(n=45) #Number of samples\n",
        "l_bounds = np.array([3, 1.6]) #Upper Boundaries\n",
        "u_bounds = np.array([13, 2.7]) #Lower Boundaries\n",
        "sample_scaled = qmc.scale(sample, l_bounds, u_bounds) #Samples Scaled\n",
        "print(sample_scaled) #Print the samples"
      ]
    },
    {
      "cell_type": "markdown",
      "metadata": {},
      "source": [
        "Points on 2D Plane"
      ]
    },
    {
      "cell_type": "code",
      "execution_count": 10,
      "metadata": {},
      "outputs": [
        {
          "name": "stderr",
          "output_type": "stream",
          "text": [
            "C:\\Users\\ismai\\AppData\\Local\\Temp\\ipykernel_26884\\2272571135.py:2: UserWarning: You passed a edgecolor/edgecolors ('blue') for an unfilled marker ('x').  Matplotlib is ignoring the edgecolor in favor of the facecolor.  This behavior may change in the future.\n",
            "  plt.scatter(sample_scaled[:, 0], sample_scaled[:, 1], c='red', marker='x', edgecolors='blue')\n"
          ]
        },
        {
          "data": {
            "image/png": "[encoded data removed]",
            "text/plain": [
              "<Figure size 600x600 with 1 Axes>"
            ]
          },
          "metadata": {},
          "output_type": "display_data"
        }
      ],
      "source": [
        "plt.figure(figsize=(6, 6))\n",
        "plt.scatter(sample_scaled[:, 0], sample_scaled[:, 1], c='red', marker='x', edgecolors='blue')\n",
        "plt.title('45 Latin Hypercube Samples', c='black')\n",
        "plt.xlabel('Sac Diameter (mm)', c='black')\n",
        "plt.ylabel('Vessel Diameter(mm)', c='black')\n",
        "plt.grid(True)\n",
        "plt.show()"
      ]
    },
    {
      "cell_type": "code",
      "execution_count": 3,
      "metadata": {},
      "outputs": [
        {
          "name": "stdout",
          "output_type": "stream",
          "text": [
            "[[ 6.13520241  1.72591672]\n",
            " [ 4.1889766   1.9012409 ]\n",
            " [ 9.92280054  2.04588876]\n",
            " [ 7.38620831  2.25971062]\n",
            " [12.08959282  2.37167162]\n",
            " [ 3.7137034   2.28049728]\n",
            " [ 8.91759206  1.66178919]\n",
            " [ 5.18229623  2.54503933]\n",
            " [10.48225029  2.68712561]\n",
            " [11.18599348  1.98523459]]\n"
          ]
        }
      ],
      "source": [
        "np.random.seed(13) #randomseed\n",
        "d = 2 #Dimensions\n",
        "sampler = qmc.LatinHypercube(d=d, seed=13) #Hypercube\n",
        "sample = sampler.random(n=10) #Number of samples\n",
        "l_bounds = np.array([3, 1.6]) #Upper Boundaries\n",
        "u_bounds = np.array([13, 2.7]) #Lower Boundaries\n",
        "sample_scaled = qmc.scale(sample, l_bounds, u_bounds) #Samples Scaled\n",
        "print(sample_scaled) #Print the samples"
      ]
    }
  ],
  "metadata": {
    "colab": {
      "provenance": []
    },
    "kernelspec": {
      "display_name": "Python 3",
      "name": "python3"
    },
    "language_info": {
      "codemirror_mode": {
        "name": "ipython",
        "version": 3
      },
      "file_extension": ".py",
      "mimetype": "text/x-python",
      "name": "python",
      "nbconvert_exporter": "python",
      "pygments_lexer": "ipython3",
      "version": "3.11.4"
    }
  },
  "nbformat": 4,
  "nbformat_minor": 0
}
